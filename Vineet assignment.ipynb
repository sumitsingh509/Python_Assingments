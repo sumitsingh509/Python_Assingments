{
 "cells": [
  {
   "cell_type": "code",
   "execution_count": null,
   "id": "be978beb-e340-45dd-bc17-b082681d222f",
   "metadata": {},
   "outputs": [],
   "source": [
    "## WEEK 1 Programs."
   ]
  },
  {
   "cell_type": "code",
   "execution_count": 7,
   "id": "cb5d0d32-ec47-4804-994f-8430bd75b0ee",
   "metadata": {},
   "outputs": [
    {
     "name": "stdin",
     "output_type": "stream",
     "text": [
      "Enter a number:  12\n",
      "Enter a number:  24\n",
      "Enter operator:  /\n"
     ]
    },
    {
     "name": "stdout",
     "output_type": "stream",
     "text": [
      "Division=  0.5\n"
     ]
    }
   ],
   "source": [
    "##(1). CALCULATOR\n",
    "num1 = int(input(\"Enter a number: \"))\n",
    "num2 = int(input(\"Enter a number: \"))\n",
    "factor = input(\"Enter operator: \")\n",
    "if factor == \"Add\" or factor == \"+\":\n",
    "    print(\"Sum=\",num1+num2)\n",
    "elif factor == \"Subtract\" or factor == \"-\":\n",
    "    print(\"Subtract=:\",num1-num2)\n",
    "elif factor == \"Multiply\" or factor == \"*\":\n",
    "    print(\"Multiply= \",num1*num2)\n",
    "elif factor == \"Division\" or factor == \"/\":\n",
    "    print(\"Division= \",num1/num2)"
   ]
  },
  {
   "cell_type": "code",
   "execution_count": 13,
   "id": "faf8bfa0-bb16-46d6-8c7a-bf3187072970",
   "metadata": {},
   "outputs": [
    {
     "name": "stdin",
     "output_type": "stream",
     "text": [
      "Enter your number:  2\n"
     ]
    },
    {
     "name": "stdout",
     "output_type": "stream",
     "text": [
      "Even\n"
     ]
    }
   ],
   "source": [
    "##(2). ODD EVEN CHECKER.\n",
    "Num = int(input(\"Enter your number: \"))\n",
    "if Num%2 == 0:\n",
    "    print(\"Even\")\n",
    "else:\n",
    "    print(\"Odd\")"
   ]
  },
  {
   "cell_type": "code",
   "execution_count": 47,
   "id": "3a8ff5f2-17fa-4807-bbd5-95ae683bb1f6",
   "metadata": {},
   "outputs": [
    {
     "name": "stdin",
     "output_type": "stream",
     "text": [
      "Enter your number:  2\n",
      "Enter limit:  10\n"
     ]
    },
    {
     "name": "stdout",
     "output_type": "stream",
     "text": [
      "2 * 1 = 2\n",
      "2 * 2 = 4\n",
      "2 * 3 = 6\n",
      "2 * 4 = 8\n",
      "2 * 5 = 10\n",
      "2 * 6 = 12\n",
      "2 * 7 = 14\n",
      "2 * 8 = 16\n",
      "2 * 9 = 18\n",
      "2 * 10 = 20\n"
     ]
    }
   ],
   "source": [
    "##(3). Multiplication table.\n",
    "num = int(input(\"Enter your number: \"))\n",
    "limit = int(input(\"Enter limit: \"))\n",
    "for i in range(1, limit + 1):\n",
    "    print( num,\"*\",i,\"=\",(num*i))"
   ]
  },
  {
   "cell_type": "code",
   "execution_count": null,
   "id": "86dee898-96d3-4fd6-a3d6-e630f6b0e17e",
   "metadata": {},
   "outputs": [],
   "source": [
    "##(4). Fibonnaci sequences(N terms).\n",
    "def fibonacci(n):\n",
    "    a, b = 0, 1\n",
    "    for _ in range(n):\n",
    "        print(a, end=\" \")\n",
    "        a, b = b, a + b\n",
    "\n",
    "num_terms = int(input(\"Enter the number of terms for Fibonacci series: \"))\n",
    "fibonacci(num_terms)\n"
   ]
  },
  {
   "cell_type": "code",
   "execution_count": null,
   "id": "317bb31e-3d34-4ffe-81ff-fcb8efdab596",
   "metadata": {},
   "outputs": [],
   "source": []
  },
  {
   "cell_type": "code",
   "execution_count": null,
   "id": "0b054794-160b-45a1-aa48-5cace8f953be",
   "metadata": {},
   "outputs": [],
   "source": []
  },
  {
   "cell_type": "code",
   "execution_count": null,
   "id": "3d1b1ddb-5b04-4dff-ba41-af97a8185f4e",
   "metadata": {},
   "outputs": [],
   "source": []
  },
  {
   "cell_type": "code",
   "execution_count": null,
   "id": "a5a6cc3c-356e-47c3-a61d-d2ba09dd60c2",
   "metadata": {},
   "outputs": [],
   "source": []
  },
  {
   "cell_type": "code",
   "execution_count": null,
   "id": "03a220a4-86c2-4175-80aa-e8e4500144c5",
   "metadata": {},
   "outputs": [],
   "source": []
  },
  {
   "cell_type": "code",
   "execution_count": null,
   "id": "d33ba2c7-1347-4199-b3f2-a5c03b81cc58",
   "metadata": {},
   "outputs": [],
   "source": []
  },
  {
   "cell_type": "code",
   "execution_count": null,
   "id": "58e9800b-1996-4f26-8215-2f76bd6bcbac",
   "metadata": {},
   "outputs": [],
   "source": []
  },
  {
   "cell_type": "code",
   "execution_count": null,
   "id": "2cb809aa-4c6d-4ad7-9a8d-57841074679c",
   "metadata": {},
   "outputs": [],
   "source": []
  },
  {
   "cell_type": "code",
   "execution_count": null,
   "id": "ede562dc-7599-44c2-b9a8-222bca7ede44",
   "metadata": {},
   "outputs": [],
   "source": []
  },
  {
   "cell_type": "code",
   "execution_count": null,
   "id": "c0d74a27-c1c9-466a-ab25-a46140c1c4ae",
   "metadata": {},
   "outputs": [],
   "source": []
  },
  {
   "cell_type": "code",
   "execution_count": null,
   "id": "1caf10aa-d2c5-47f3-a271-de14167b5e3d",
   "metadata": {},
   "outputs": [],
   "source": []
  },
  {
   "cell_type": "code",
   "execution_count": null,
   "id": "5f66b40f-6ac7-4841-bf17-973d087c33a2",
   "metadata": {},
   "outputs": [],
   "source": []
  },
  {
   "cell_type": "code",
   "execution_count": null,
   "id": "d07576e5-1d7e-46e6-a5b9-5c1deee1dc26",
   "metadata": {},
   "outputs": [],
   "source": []
  },
  {
   "cell_type": "code",
   "execution_count": null,
   "id": "2627a9c0-0880-403f-b557-392db07025b9",
   "metadata": {},
   "outputs": [],
   "source": []
  },
  {
   "cell_type": "code",
   "execution_count": null,
   "id": "0c749239-1b5c-4c2b-ad50-e20658ff61ec",
   "metadata": {},
   "outputs": [],
   "source": []
  },
  {
   "cell_type": "code",
   "execution_count": null,
   "id": "59efeb24-547a-428c-ad1f-4657978df05b",
   "metadata": {},
   "outputs": [],
   "source": []
  },
  {
   "cell_type": "code",
   "execution_count": null,
   "id": "4ed0a495-2eee-46e4-9641-9fdb99e52c00",
   "metadata": {},
   "outputs": [],
   "source": []
  },
  {
   "cell_type": "code",
   "execution_count": null,
   "id": "e021aed8-ce8c-489a-a132-c92d0768401c",
   "metadata": {},
   "outputs": [],
   "source": []
  }
 ],
 "metadata": {
  "kernelspec": {
   "display_name": "Python 3 (ipykernel)",
   "language": "python",
   "name": "python3"
  },
  "language_info": {
   "codemirror_mode": {
    "name": "ipython",
    "version": 3
   },
   "file_extension": ".py",
   "mimetype": "text/x-python",
   "name": "python",
   "nbconvert_exporter": "python",
   "pygments_lexer": "ipython3",
   "version": "3.12.7"
  }
 },
 "nbformat": 4,
 "nbformat_minor": 5
}
